{
 "cells": [
  {
   "cell_type": "code",
   "execution_count": 1,
   "metadata": {},
   "outputs": [
    {
     "data": {
      "text/plain": [
       "tensor(1.3584)"
      ]
     },
     "execution_count": 1,
     "metadata": {},
     "output_type": "execute_result"
    }
   ],
   "source": [
    "import torch\n",
    "loss = torch.nn.CrossEntropyLoss()\n",
    "a = torch.tensor([[0.1,0.1,0.1,0.7],[0.0,1,0,0]])\n",
    "b = torch.tensor([[0.0,0.0,0.0,1.0],[1.0,0,0,0]])\n",
    "loss(a,b)"
   ]
  },
  {
   "cell_type": "code",
   "execution_count": 2,
   "metadata": {},
   "outputs": [],
   "source": [
    "from torchvision import datasets\n",
    "loader = datasets.ImageFolder(\"dataset/Original_images/amazon/images\")"
   ]
  },
  {
   "cell_type": "code",
   "execution_count": 3,
   "metadata": {},
   "outputs": [],
   "source": [
    "import scipy.io as sio\n",
    "from scipy.signal import stft\n",
    "import  glob\n",
    "import numpy as np\n",
    "data =  sio.loadmat(\"dataset/CWRU/12k_Drive_End_B007_1_119.mat\")\n",
    "data['X119_DE_time'].shape\n",
    "A = {'B007':'dataset/CWRU/12k_Drive_End_B007_0_118.mat',\n",
    "     'OR021':'dataset/CWRU/12k_Drive_End_OR021@6_0_234.mat',\n",
    "     'OR014':'dataset/CWRU/12k_Drive_End_OR014@6_0_197.mat',\n",
    "     'B014':'dataset/CWRU/12k_Drive_End_B014_0_185.mat',\n",
    "     'IR021':'dataset/CWRU/12k_Drive_End_IR021_0_209.mat',\n",
    "     'B021':'dataset/CWRU/12k_Drive_End_B021_0_222.mat',\n",
    "     'IR007':'dataset/CWRU/12k_Drive_End_IR007_0_105.mat',\n",
    "     'IR014':'dataset/CWRU/12k_Drive_End_IR014_0_169.mat',\n",
    "     'OR007':'dataset/CWRU/12k_Drive_End_OR007@6_0_130.mat'}\n",
    "B = {'IR007':'dataset/CWRU/12k_Drive_End_IR007_1_106.mat',\n",
    "     'IR014':'dataset/CWRU/12k_Drive_End_IR014_1_170.mat',\n",
    "    'B007':'dataset/CWRU/12k_Drive_End_B007_1_119.mat',\n",
    "    'B021':'dataset/CWRU/12k_Drive_End_B021_1_223.mat',\n",
    "    'OR021':'dataset/CWRU/12k_Drive_End_OR021@6_1_235.mat',\n",
    "    'B014':'dataset/CWRU/12k_Drive_End_B014_1_186.mat',\n",
    "    'IR021':'dataset/CWRU/12k_Drive_End_IR021_1_210.mat',\n",
    "    'OR007':'dataset/CWRU/12k_Drive_End_OR007@6_1_131.mat',\n",
    "    'OR014':'dataset/CWRU/12k_Drive_End_OR014@6_1_198.mat'}\n",
    "C = {'OR007':'dataset/CWRU/12k_Drive_End_OR007@6_2_132.mat',\n",
    "    'OR021':'dataset/CWRU/12k_Drive_End_OR021@6_2_236.mat',\n",
    "    'IR021':'dataset/CWRU/12k_Drive_End_IR021_2_211.mat',\n",
    "    'B007':'dataset/CWRU/12k_Drive_End_B007_2_120.mat',\n",
    "    'B021':'dataset/CWRU/12k_Drive_End_B021_2_224.mat',\n",
    "    'OR014':'dataset/CWRU/12k_Drive_End_OR014@6_2_199.mat',\n",
    "    'IR014':'dataset/CWRU/12k_Drive_End_IR014_2_171.mat',\n",
    "    'IR007':'dataset/CWRU/12k_Drive_End_IR007_2_107.mat',\n",
    "    'B014':'dataset/CWRU/12k_Drive_End_B014_2_187.mat'}\n",
    "D = {'OR021':'dataset/CWRU/12k_Drive_End_OR021@6_3_237.mat',\n",
    "    'B014':'dataset/CWRU/12k_Drive_End_B014_3_188.mat',\n",
    "    'B007':'dataset/CWRU/12k_Drive_End_B007_3_121.mat',\n",
    "    'IR014':'dataset/CWRU/12k_Drive_End_IR014_3_172.mat',\n",
    "    'B021':'dataset/CWRU/12k_Drive_End_B021_3_225.mat',\n",
    "    'OR014':'dataset/CWRU/12k_Drive_End_OR014@6_3_200.mat',\n",
    "    'OR007':'dataset/CWRU/12k_Drive_End_OR007@6_3_133.mat',\n",
    "    'IR007':'dataset/CWRU/12k_Drive_End_IR007_3_108.mat',\n",
    "    'IR021':'dataset/CWRU/12k_Drive_End_IR021_3_212.mat'}\n",
    "label = ['B007','B014','B021','IR007','IR014','IR021','OR007','OR014','OR021']\n",
    "data =  data['X119_DE_time'].squeeze()\n"
   ]
  },
  {
   "cell_type": "code",
   "execution_count": 24,
   "metadata": {},
   "outputs": [],
   "source": [
    "from torch.utils.data import Dataset,DataLoader\n",
    "from scipy.signal import stft\n",
    "import numpy as np\n",
    "class CWRUDataset(Dataset):\n",
    "    def __init__(self,pathlist) -> None:\n",
    "        super().__init__()\n",
    "        self.pathdict = pathlist\n",
    "        self.label = ['B007','B014','B021','IR007','IR014','IR021','OR007','OR014','OR021']\n",
    "        self.datalist = [self.loadFile(i) for i in self.label]\n",
    "        self.startrange = np.linspace(0,100000,200,dtype=np.int32) \n",
    "    def __len__(self):\n",
    "        return 1000\n",
    "    def __getitem__(self, index) :\n",
    "        i = index % len(self.label)\n",
    "        slice = index // len(self.label)\n",
    "        start = self.startrange[slice]\n",
    "        data = self.datalist[i][start:start+20000]\n",
    "        stftdata = np.abs(stft(data,12000)[2])\n",
    "        return stftdata[:128,:128] , i\n",
    "    def loadFile(self,label):\n",
    "        file = self.pathdict[label]\n",
    "        key ='X'+ file.split(\"_\")[-1].split(\".\")[0] +'_DE_time'\n",
    "        data = sio.loadmat(file)[key].squeeze()\n",
    "        return data"
   ]
  },
  {
   "cell_type": "code",
   "execution_count": 25,
   "metadata": {},
   "outputs": [],
   "source": [
    "dl = DataLoader(dataset=CWRUDataset(A),batch_size=32,shuffle=True)"
   ]
  },
  {
   "cell_type": "code",
   "execution_count": 26,
   "metadata": {},
   "outputs": [
    {
     "data": {
      "text/plain": [
       "(128, 128)"
      ]
     },
     "execution_count": 26,
     "metadata": {},
     "output_type": "execute_result"
    }
   ],
   "source": [
    "dl.dataset[999][0].shape"
   ]
  },
  {
   "cell_type": "code",
   "execution_count": 27,
   "metadata": {},
   "outputs": [
    {
     "data": {
      "text/plain": [
       "(122917, 1)"
      ]
     },
     "execution_count": 27,
     "metadata": {},
     "output_type": "execute_result"
    }
   ],
   "source": [
    "sio.loadmat(D[label[3]])['X108_DE_time'].shape"
   ]
  }
 ],
 "metadata": {
  "kernelspec": {
   "display_name": "DANN",
   "language": "python",
   "name": "python3"
  },
  "language_info": {
   "codemirror_mode": {
    "name": "ipython",
    "version": 3
   },
   "file_extension": ".py",
   "mimetype": "text/x-python",
   "name": "python",
   "nbconvert_exporter": "python",
   "pygments_lexer": "ipython3",
   "version": "3.8.16"
  },
  "orig_nbformat": 4,
  "vscode": {
   "interpreter": {
    "hash": "1f8a801159c681c49a67a4d9f994a0e02810f0f072ff987d704ea09f8b11bf97"
   }
  }
 },
 "nbformat": 4,
 "nbformat_minor": 2
}
